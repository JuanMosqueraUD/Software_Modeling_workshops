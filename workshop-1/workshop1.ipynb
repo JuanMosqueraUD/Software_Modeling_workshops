{
  "nbformat": 4,
  "nbformat_minor": 0,
  "metadata": {
    "colab": {
      "provenance": [],
      "authorship_tag": "ABX9TyNAJC7lcJ1hxQnw1i+v34s2",
      "include_colab_link": true
    },
    "kernelspec": {
      "name": "python3",
      "display_name": "Python 3"
    },
    "language_info": {
      "name": "python"
    }
  },
  "cells": [
    {
      "cell_type": "markdown",
      "metadata": {
        "id": "view-in-github",
        "colab_type": "text"
      },
      "source": [
        "<a href=\"https://colab.research.google.com/github/JuanMosqueraUD/workshop-1/blob/main/workshop-1/workshop1.ipynb\" target=\"_parent\"><img src=\"https://colab.research.google.com/assets/colab-badge.svg\" alt=\"Open In Colab\"/></a>"
      ]
    },
    {
      "cell_type": "code",
      "execution_count": 3,
      "metadata": {
        "id": "E7vlGL4KLdS0"
      },
      "outputs": [],
      "source": [
        "\"\"\"\n",
        "Este archivo contiene las clases necesarias para crear y hacer funcionar el catalogo de vehiculos\n",
        "\n",
        "Author:Juan Pablo Mosquera\n",
        "Date: 15/03/22\n",
        "\"\"\"\n",
        "\n",
        "class Engine:\n",
        "  \"\"\"\n",
        "  esta clase crea el objeto del motor y los atributos del mismo\n",
        "  \"\"\"\n",
        "\n",
        "  def __init__(self, type_engine:str, name:str, potency:int, weight:str):\n",
        "\n",
        "    self.type_engine= type_engine\n",
        "    self.engine_name = name\n",
        "    self.potency = potency\n",
        "    self.weight = weight\n",
        "    self.gas_consumption= calculate_consumption(type_engine,potency,weight)\n",
        "\n",
        "\n",
        "def calculate_consumption(type_engine,potency,weight):\n",
        "  \"\"\"\n",
        "  Funcion para calcular el consumo de gasolina del motor\n",
        "  \"\"\"\n",
        "\n",
        "  if type_engine== \"A\" or \"a\":\n",
        "    type_engine= 0.3\n",
        "  elif type_engine== \"B\" or \"b\":\n",
        "    type_engine= 0.5\n",
        "\n",
        "  gas= 1.1*potency + 0.2*weight - type_engine\n",
        "\n",
        "  return gas\n"
      ]
    },
    {
      "cell_type": "code",
      "source": [],
      "metadata": {
        "id": "ITati1ZuTzy7"
      },
      "execution_count": null,
      "outputs": []
    }
  ]
}