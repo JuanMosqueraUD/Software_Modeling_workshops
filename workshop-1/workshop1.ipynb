{
  "nbformat": 4,
  "nbformat_minor": 0,
  "metadata": {
    "colab": {
      "provenance": [],
      "authorship_tag": "ABX9TyPOD8Drb1xWTQLYr7FBuCib",
      "include_colab_link": true
    },
    "kernelspec": {
      "name": "python3",
      "display_name": "Python 3"
    },
    "language_info": {
      "name": "python"
    }
  },
  "cells": [
    {
      "cell_type": "markdown",
      "metadata": {
        "id": "view-in-github",
        "colab_type": "text"
      },
      "source": [
        "<a href=\"https://colab.research.google.com/github/JuanMosqueraUD/workshop-1/blob/main/workshop-1/workshop1.ipynb\" target=\"_parent\"><img src=\"https://colab.research.google.com/assets/colab-badge.svg\" alt=\"Open In Colab\"/></a>"
      ]
    },
    {
      "cell_type": "code",
      "execution_count": 18,
      "metadata": {
        "id": "E7vlGL4KLdS0"
      },
      "outputs": [],
      "source": [
        "\"\"\"\n",
        "Este archivo contiene las clases necesarias para crear y hacer funcionar el catalogo de vehiculos\n",
        "\n",
        "Author:Juan Pablo Mosquera\n",
        "Date: 15/03/22\n",
        "\"\"\"\n",
        "\n",
        "class Engine:\n",
        "  \"\"\"\n",
        "  esta clase crea el objeto del motor y los atributos del mismo\n",
        "  \"\"\"\n",
        "\n",
        "  def __init__(self, chasis:str,type_engine:str, name:str, potency:int, weight:str):\n",
        "\n",
        "    self.type_engine= type_engine\n",
        "    self.engine_name = name\n",
        "    self.potency = potency\n",
        "    self.weight = weight\n",
        "    self.chasis = chasis\n",
        "    self.gas_consumption= calculate_consumption(chasis,potency,weight)\n",
        "\n",
        "\n",
        "def calculate_consumption(type_engine,potency,weight):\n",
        "  \"\"\"\n",
        "  Funcion para calcular el consumo de gasolina del motor\n",
        "  \"\"\"\n",
        "\n",
        "  if type_engine== \"A\" or \"a\":\n",
        "    type_engine= 0.3\n",
        "  elif type_engine== \"B\" or \"b\":\n",
        "    type_engine= 0.5\n",
        "\n",
        "  gas= 1.1*int(potency) + 0.2*int(weight) - type_engine\n",
        "\n",
        "  return gas\n"
      ]
    },
    {
      "cell_type": "code",
      "source": [
        "class Vehicle(Engine):\n",
        "  \"\"\"\n",
        "  clase en la que se va a que se crea la clase del vehiculo heredando del motor\n",
        "  \"\"\"\n",
        "  def __init__(self,chasis,type_engine,engine_name, model,potency,weight,year):\n",
        "    super().__init__(chasis,type_engine,engine_name,potency)\n",
        "    self.model=model\n",
        "    self.year=year\n",
        "\n",
        "class Car(Vehicle):\n",
        "  \"\"\"\n",
        "  clase que va a crear el objeto del carro heredando de la clase vehiculo\n",
        "  \"\"\"\n",
        "  def __init__(self, chasis, type_engine, engine_name, model, potency, weight, year):\n",
        "    super().__init__(chasis, type_engine, engine_name, model, potency, weight, year)\n",
        "\n",
        "class Truck(Vehicle):\n",
        "  \"\"\"\n",
        "  clase que va a crear el objeto camion heredando vehiculo\n",
        "  \"\"\"\n",
        "  def __init__(self, chasis, type_engine, engine_name, model, potency, weight, year):\n",
        "    super().__init__(chasis, type_engine, engine_name, model, potency, weight, year)\n",
        "\n",
        "class Yatch(Vehicle):\n",
        "  \"\"\"\n",
        "  clase que va a crear el objeto del yate heredando de la clase vehiculo\n",
        "  \"\"\"\n",
        "  def __init__(self, chasis, type_engine, engine_name, model, potency, weight, year):\n",
        "    super().__init__(chasis, type_engine, engine_name, model, potency, weight, year)\n",
        "\n",
        "class Motorcycle(Vehicle):\n",
        "  \"\"\"\n",
        "  clase que va a crear el objeto de la moto heredando de la clase vehiculo\n",
        "  \"\"\"\n",
        "  def __init__(self, chasis, type_engine, engine_name, model, potency, weight, year):\n",
        "    super().__init__(chasis, type_engine, engine_name, model, potency, weight, year)"
      ],
      "metadata": {
        "id": "ITati1ZuTzy7"
      },
      "execution_count": 19,
      "outputs": []
    },
    {
      "cell_type": "code",
      "source": [
        "def crear_motor():\n",
        "\n",
        "  chasis= input(\"ingrese el tipo de chasis\")\n",
        "  tipo =input(\"ingrese el tipo del motor\")\n",
        "  nombre= input(\"ingrese el nombre del motor\")\n",
        "  potencia= input(\"ingrese la potencia del motor\")\n",
        "  peso= input(\"ingrese el peso del motor\")\n",
        "\n",
        "  nombre = Engine(chasis,tipo,nombre,potencia,peso)\n",
        "\n",
        "def crear_vehiculo(tipo):\n",
        "  if tipo==1:\n",
        "    chasis= input(\"ingrese el tipo de chasis\")\n",
        "    tipo =input(\"ingrese el tipo del motor\")\n",
        "    nombremotor= input(\"ingrese el nombre del motor\")\n",
        "    modelo = input(\"ingrese el modelo\")\n",
        "    potencia= input(\"ingrese la potencia del motor\")\n",
        "    peso= input(\"ingrese el peso del motor\")\n",
        "    año= input(\"ingrese el año\")\n",
        "\n",
        "    nombre = Car(chasis,tipo,nombre,potencia,peso)\n",
        "  elif tipo==2:\n",
        "    chasis= input(\"ingrese el tipo de chasis\")\n",
        "    tipo =input(\"ingrese el tipo del motor\")\n",
        "    nombremotor= input(\"ingrese el nombre del motor\")\n",
        "    modelo = input(\"ingrese el modelo\")\n",
        "    potencia= input(\"ingrese la potencia del motor\")\n",
        "    peso= input(\"ingrese el peso del motor\")\n",
        "    año= input(\"ingrese el año\")\n",
        "\n",
        "    nombre = Motorcycle(chasis,tipo,nombre,potencia,peso)\n",
        "\n",
        "  elif tipo==3:\n",
        "      chasis= input(\"ingrese el tipo de chasis\")\n",
        "      tipo =input(\"ingrese el tipo del motor\")\n",
        "      nombremotor= input(\"ingrese el nombre del motor\")\n",
        "      modelo = input(\"ingrese el modelo\")\n",
        "      potencia= input(\"ingrese la potencia del motor\")\n",
        "      peso= input(\"ingrese el peso del motor\")\n",
        "      año= input(\"ingrese el año\")\n",
        "\n",
        "      nombre = Yatch(chasis,tipo,nombre,potencia,peso)\n",
        "\n",
        "Message= \"\"\"\n",
        "1. crea un motor\n",
        "2. crea un carro\n",
        "3. crea una moto\n",
        "4. crear un yate\n",
        "5. ver todos los vehiculo\n",
        "6.salir\n",
        "\"\"\"\n",
        "\n",
        "print(Message)\n",
        "\n",
        "option= 0\n",
        "\n",
        "while option!=6:\n",
        "  option= int(input(\"elija la opcion\"))\n",
        "  if option==1:\n",
        "    crear_motor()\n",
        "  elif option==2:\n",
        "    crear_vehiculo(1)\n",
        "  elif option==3:\n",
        "    crear_vehiculo(2)\n",
        "  elif option==4:\n",
        "    crear_vehiculo(3)\n",
        "  elif option==6:\n",
        "    print(\"hasta luego\")\n",
        "\n",
        "\n",
        "\n",
        "\n"
      ],
      "metadata": {
        "colab": {
          "base_uri": "https://localhost:8080/"
        },
        "id": "Mb1MtaSzVsSb",
        "outputId": "cd5bad92-0c4e-44de-d8f9-91b40101d49f"
      },
      "execution_count": null,
      "outputs": [
        {
          "output_type": "stream",
          "name": "stdout",
          "text": [
            "\n",
            "1. crea un motor\n",
            "2. crea un carro\n",
            "3. crea una moto\n",
            "4. crear un yate\n",
            "5. ver todos los vehiculo\n",
            "6.salir\n",
            "\n"
          ]
        }
      ]
    },
    {
      "cell_type": "code",
      "source": [],
      "metadata": {
        "id": "IHLa6BJgbpD3"
      },
      "execution_count": null,
      "outputs": []
    }
  ]
}