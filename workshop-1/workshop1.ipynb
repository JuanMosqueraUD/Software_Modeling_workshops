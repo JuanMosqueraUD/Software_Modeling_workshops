{
  "nbformat": 4,
  "nbformat_minor": 0,
  "metadata": {
    "colab": {
      "provenance": [],
      "authorship_tag": "ABX9TyMx6Avo/5lXWF/wBnthJ5Hh",
      "include_colab_link": true
    },
    "kernelspec": {
      "name": "python3",
      "display_name": "Python 3"
    },
    "language_info": {
      "name": "python"
    }
  },
  "cells": [
    {
      "cell_type": "markdown",
      "metadata": {
        "id": "view-in-github",
        "colab_type": "text"
      },
      "source": [
        "<a href=\"https://colab.research.google.com/github/JuanMosqueraUD/workshop-1/blob/main/workshop-1/workshop1.ipynb\" target=\"_parent\"><img src=\"https://colab.research.google.com/assets/colab-badge.svg\" alt=\"Open In Colab\"/></a>"
      ]
    },
    {
      "cell_type": "code",
      "execution_count": 18,
      "metadata": {
        "id": "E7vlGL4KLdS0"
      },
      "outputs": [],
      "source": [
        "\"\"\"\n",
        "Este archivo contiene las clases necesarias para crear y hacer funcionar el catalogo de vehiculos\n",
        "\n",
        "Author:Juan Pablo Mosquera\n",
        "Date: 15/03/22\n",
        "\"\"\"\n",
        "\n",
        "class Engine:\n",
        "  \"\"\"\n",
        "  esta clase crea el objeto del motor y los atributos del mismo\n",
        "  \"\"\"\n",
        "\n",
        "  def __init__(self, chasis:str,type_engine:str, name:str, potency:int, weight:str):\n",
        "\n",
        "    self.type_engine= type_engine\n",
        "    self.engine_name = name\n",
        "    self.potency = potency\n",
        "    self.weight = weight\n",
        "    self.chasis = chasis\n",
        "    self.gas_consumption= calculate_consumption(chasis,potency,weight)\n",
        "\n",
        "\n",
        "def calculate_consumption(type_engine,potency,weight):\n",
        "  \"\"\"\n",
        "  Funcion para calcular el consumo de gasolina del motor\n",
        "  \"\"\"\n",
        "\n",
        "  if type_engine== \"A\" or \"a\":\n",
        "    type_engine= 0.3\n",
        "  elif type_engine== \"B\" or \"b\":\n",
        "    type_engine= 0.5\n",
        "\n",
        "  gas= 1.1*int(potency) + 0.2*int(weight) - type_engine\n",
        "\n",
        "  return gas\n"
      ]
    },
    {
      "cell_type": "code",
      "source": [
        "class Vehicle(Engine):\n",
        "  \"\"\"\n",
        "  clase en la que se va a que se crea la clase del vehiculo heredando del motor\n",
        "  \"\"\"\n",
        "  def __init__(self,chasis,type_engine,engine_name, model,potency,weight,year):\n",
        "    super().__init__(chasis,type_engine,engine_name,potency)\n",
        "    self.model=model\n",
        "    self.year=year\n",
        "\n",
        "class Car(Vehicle):\n",
        "  \"\"\"\n",
        "  clase que va a crear el objeto del carro heredando de la clase vehiculo\n",
        "  \"\"\"\n",
        "  def __init__(self, chasis, type_engine, engine_name, model, potency, weight, year):\n",
        "    super().__init__(chasis, type_engine, engine_name, model, potency, weight, year)\n",
        "\n",
        "class Truck(Vehicle):\n",
        "  \"\"\"\n",
        "  clase que va a crear el objeto camion heredando vehiculo\n",
        "  \"\"\"\n",
        "  def __init__(self, chasis, type_engine, engine_name, model, potency, weight, year):\n",
        "    super().__init__(chasis, type_engine, engine_name, model, potency, weight, year)\n",
        "\n",
        "class Yatch(Vehicle):\n",
        "  \"\"\"\n",
        "  clase que va a crear el objeto del yate heredando de la clase vehiculo\n",
        "  \"\"\"\n",
        "  def __init__(self, chasis, type_engine, engine_name, model, potency, weight, year):\n",
        "    super().__init__(chasis, type_engine, engine_name, model, potency, weight, year)\n",
        "\n",
        "class Motorcycle(Vehicle):\n",
        "  \"\"\"\n",
        "  clase que va a crear el objeto de la moto heredando de la clase vehiculo\n",
        "  \"\"\"\n",
        "  def __init__(self, chasis, type_engine, engine_name, model, potency, weight, year):\n",
        "    super().__init__(chasis, type_engine, engine_name, model, potency, weight, year)"
      ],
      "metadata": {
        "id": "ITati1ZuTzy7"
      },
      "execution_count": 19,
      "outputs": []
    },
    {
      "cell_type": "code",
      "source": [
        "def crear_motor():\n",
        "\n",
        "  chasis= input(\"ingrese el tipo de chasis\")\n",
        "  tipo =input(\"ingrese el tipo del motor\")\n",
        "  nombre= input(\"ingrese el nombre del motor\")\n",
        "  potencia= input(\"ingrese la potencia del motor\")\n",
        "  peso= input(\"ingrese el peso del motor\")\n",
        "\n",
        "  nombre = Engine(chasis,tipo,nombre,potencia,peso)\n",
        "\n",
        "def crear_vehiculo(tipo):\n",
        "  if tipo==1:\n",
        "    chasis= input(\"ingrese el tipo de chasis\")\n",
        "    tipo =input(\"ingrese el tipo del motor\")\n",
        "    nombremotor= input(\"ingrese el nombre del motor\")\n",
        "    modelo = input(\"ingrese el modelo\")\n",
        "    potencia= input(\"ingrese la potencia del motor\")\n",
        "    peso= input(\"ingrese el peso del motor\")\n",
        "    año= input(\"ingrese el año\")\n",
        "\n",
        "    nombre = Car(chasis,tipo,nombre,potencia,peso)\n",
        "  elif tipo==2:\n",
        "    chasis= input(\"ingrese el tipo de chasis\")\n",
        "    tipo =input(\"ingrese el tipo del motor\")\n",
        "    nombremotor= input(\"ingrese el nombre del motor\")\n",
        "    modelo = input(\"ingrese el modelo\")\n",
        "    potencia= input(\"ingrese la potencia del motor\")\n",
        "    peso= input(\"ingrese el peso del motor\")\n",
        "    año= input(\"ingrese el año\")\n",
        "\n",
        "    nombre = Motorcycle(chasis,tipo,nombre,potencia,peso)\n",
        "\n",
        "\n",
        "\n",
        "Message= \"\"\"\n",
        "1. crea un motor\n",
        "2. crea un carro\n",
        "3. crea una moto\n",
        "4. crear un yate\n",
        "5. ver todos los vehiculo\n",
        "6.salir\n",
        "\"\"\"\n",
        "\n",
        "print(Message)\n",
        "\n",
        "option= 0\n",
        "\n",
        "while option!=6:\n",
        "  option= int(input(\"elija la opcion\"))\n",
        "  if option==1:\n",
        "    crear_motor()\n",
        "  elif option==2:\n",
        "    crear_vehiculo(1)\n",
        "  elif option==3:\n",
        "    crear_vehiculo(2)\n",
        "  elif option==6:\n",
        "    print(\"hasta luego\")\n",
        "\n",
        "\n",
        "\n",
        "\n"
      ],
      "metadata": {
        "colab": {
          "base_uri": "https://localhost:8080/",
          "height": 495
        },
        "id": "Mb1MtaSzVsSb",
        "outputId": "b86642f6-cc28-4d3e-d993-d5fde7f0fceb"
      },
      "execution_count": 24,
      "outputs": [
        {
          "output_type": "stream",
          "name": "stdout",
          "text": [
            "\n",
            "1. crea un motor\n",
            "2. crea un carro\n",
            "3. crea una moto\n",
            "4. crear un yate\n",
            "5. ver todos los vehiculo\n",
            "6.salir\n",
            "\n"
          ]
        },
        {
          "output_type": "error",
          "ename": "KeyboardInterrupt",
          "evalue": "Interrupted by user",
          "traceback": [
            "\u001b[0;31m---------------------------------------------------------------------------\u001b[0m",
            "\u001b[0;31mKeyboardInterrupt\u001b[0m                         Traceback (most recent call last)",
            "\u001b[0;32m<ipython-input-24-2672d4b62ffc>\u001b[0m in \u001b[0;36m<cell line: 48>\u001b[0;34m()\u001b[0m\n\u001b[1;32m     47\u001b[0m \u001b[0;34m\u001b[0m\u001b[0m\n\u001b[1;32m     48\u001b[0m \u001b[0;32mwhile\u001b[0m \u001b[0moption\u001b[0m\u001b[0;34m!=\u001b[0m\u001b[0;36m6\u001b[0m\u001b[0;34m:\u001b[0m\u001b[0;34m\u001b[0m\u001b[0;34m\u001b[0m\u001b[0m\n\u001b[0;32m---> 49\u001b[0;31m   \u001b[0moption\u001b[0m\u001b[0;34m=\u001b[0m \u001b[0mint\u001b[0m\u001b[0;34m(\u001b[0m\u001b[0minput\u001b[0m\u001b[0;34m(\u001b[0m\u001b[0;34m\"elija la opcion\"\u001b[0m\u001b[0;34m)\u001b[0m\u001b[0;34m)\u001b[0m\u001b[0;34m\u001b[0m\u001b[0;34m\u001b[0m\u001b[0m\n\u001b[0m\u001b[1;32m     50\u001b[0m   \u001b[0;32mif\u001b[0m \u001b[0moption\u001b[0m\u001b[0;34m==\u001b[0m\u001b[0;36m1\u001b[0m\u001b[0;34m:\u001b[0m\u001b[0;34m\u001b[0m\u001b[0;34m\u001b[0m\u001b[0m\n\u001b[1;32m     51\u001b[0m     \u001b[0mcrear_motor\u001b[0m\u001b[0;34m(\u001b[0m\u001b[0;34m)\u001b[0m\u001b[0;34m\u001b[0m\u001b[0;34m\u001b[0m\u001b[0m\n",
            "\u001b[0;32m/usr/local/lib/python3.10/dist-packages/ipykernel/kernelbase.py\u001b[0m in \u001b[0;36mraw_input\u001b[0;34m(self, prompt)\u001b[0m\n\u001b[1;32m    849\u001b[0m                 \u001b[0;34m\"raw_input was called, but this frontend does not support input requests.\"\u001b[0m\u001b[0;34m\u001b[0m\u001b[0;34m\u001b[0m\u001b[0m\n\u001b[1;32m    850\u001b[0m             )\n\u001b[0;32m--> 851\u001b[0;31m         return self._input_request(str(prompt),\n\u001b[0m\u001b[1;32m    852\u001b[0m             \u001b[0mself\u001b[0m\u001b[0;34m.\u001b[0m\u001b[0m_parent_ident\u001b[0m\u001b[0;34m,\u001b[0m\u001b[0;34m\u001b[0m\u001b[0;34m\u001b[0m\u001b[0m\n\u001b[1;32m    853\u001b[0m             \u001b[0mself\u001b[0m\u001b[0;34m.\u001b[0m\u001b[0m_parent_header\u001b[0m\u001b[0;34m,\u001b[0m\u001b[0;34m\u001b[0m\u001b[0;34m\u001b[0m\u001b[0m\n",
            "\u001b[0;32m/usr/local/lib/python3.10/dist-packages/ipykernel/kernelbase.py\u001b[0m in \u001b[0;36m_input_request\u001b[0;34m(self, prompt, ident, parent, password)\u001b[0m\n\u001b[1;32m    893\u001b[0m             \u001b[0;32mexcept\u001b[0m \u001b[0mKeyboardInterrupt\u001b[0m\u001b[0;34m:\u001b[0m\u001b[0;34m\u001b[0m\u001b[0;34m\u001b[0m\u001b[0m\n\u001b[1;32m    894\u001b[0m                 \u001b[0;31m# re-raise KeyboardInterrupt, to truncate traceback\u001b[0m\u001b[0;34m\u001b[0m\u001b[0;34m\u001b[0m\u001b[0m\n\u001b[0;32m--> 895\u001b[0;31m                 \u001b[0;32mraise\u001b[0m \u001b[0mKeyboardInterrupt\u001b[0m\u001b[0;34m(\u001b[0m\u001b[0;34m\"Interrupted by user\"\u001b[0m\u001b[0;34m)\u001b[0m \u001b[0;32mfrom\u001b[0m \u001b[0;32mNone\u001b[0m\u001b[0;34m\u001b[0m\u001b[0;34m\u001b[0m\u001b[0m\n\u001b[0m\u001b[1;32m    896\u001b[0m             \u001b[0;32mexcept\u001b[0m \u001b[0mException\u001b[0m \u001b[0;32mas\u001b[0m \u001b[0me\u001b[0m\u001b[0;34m:\u001b[0m\u001b[0;34m\u001b[0m\u001b[0;34m\u001b[0m\u001b[0m\n\u001b[1;32m    897\u001b[0m                 \u001b[0mself\u001b[0m\u001b[0;34m.\u001b[0m\u001b[0mlog\u001b[0m\u001b[0;34m.\u001b[0m\u001b[0mwarning\u001b[0m\u001b[0;34m(\u001b[0m\u001b[0;34m\"Invalid Message:\"\u001b[0m\u001b[0;34m,\u001b[0m \u001b[0mexc_info\u001b[0m\u001b[0;34m=\u001b[0m\u001b[0;32mTrue\u001b[0m\u001b[0;34m)\u001b[0m\u001b[0;34m\u001b[0m\u001b[0;34m\u001b[0m\u001b[0m\n",
            "\u001b[0;31mKeyboardInterrupt\u001b[0m: Interrupted by user"
          ]
        }
      ]
    },
    {
      "cell_type": "code",
      "source": [],
      "metadata": {
        "id": "IHLa6BJgbpD3"
      },
      "execution_count": null,
      "outputs": []
    }
  ]
}